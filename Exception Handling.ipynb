{
 "cells": [
  {
   "cell_type": "markdown",
   "id": "8e7a5c4d",
   "metadata": {},
   "source": [
    "# Errors and Exceptions\n",
    "A Python program terminates as soon as it encounters an error. In Python, an error can be a syntax error or an exception. In this article we will have a look at:\n",
    "\n",
    "1. Syntax Error vs. Exception\n",
    "2. How to raise Exceptions\n",
    "3. How to handle Exceptions\n",
    "4. Most common built-in Exceptions\n",
    "5. How to define your own Exception\n",
    "\n",
    "# Syntax Errors\n",
    "A Syntax Error occurs when the parser detects a syntactically incorrect statement. A syntax error can be for example a typo, missing brackets, no new line (see code below), or wrong identation (this will actually raise its own IndentationError, but its subclassed from a SyntaxError)."
   ]
  },
  {
   "cell_type": "code",
   "execution_count": 1,
   "id": "40813842",
   "metadata": {},
   "outputs": [
    {
     "ename": "SyntaxError",
     "evalue": "invalid syntax (3256289109.py, line 1)",
     "output_type": "error",
     "traceback": [
      "\u001b[1;36m  Input \u001b[1;32mIn [1]\u001b[1;36m\u001b[0m\n\u001b[1;33m    a = 5 print(a)\u001b[0m\n\u001b[1;37m          ^\u001b[0m\n\u001b[1;31mSyntaxError\u001b[0m\u001b[1;31m:\u001b[0m invalid syntax\n"
     ]
    }
   ],
   "source": [
    "a = 5 print(a)\n",
    "  \n"
   ]
  },
  {
   "cell_type": "markdown",
   "id": "b5f7d095",
   "metadata": {},
   "source": [
    "# Exceptions\n",
    "Even if a statement is syntactically correct, it may cause an error when it is executed. This is called an Exception Error. There are several different error classes, for example trying to add a number and a string will raise a TypeError.\n",
    "\n"
   ]
  },
  {
   "cell_type": "code",
   "execution_count": 2,
   "id": "a88cf4cf",
   "metadata": {},
   "outputs": [
    {
     "ename": "TypeError",
     "evalue": "unsupported operand type(s) for +: 'int' and 'str'",
     "output_type": "error",
     "traceback": [
      "\u001b[1;31m---------------------------------------------------------------------------\u001b[0m",
      "\u001b[1;31mTypeError\u001b[0m                                 Traceback (most recent call last)",
      "Input \u001b[1;32mIn [2]\u001b[0m, in \u001b[0;36m<cell line: 1>\u001b[1;34m()\u001b[0m\n\u001b[1;32m----> 1\u001b[0m a \u001b[38;5;241m=\u001b[39m \u001b[38;5;241;43m5\u001b[39;49m\u001b[43m \u001b[49m\u001b[38;5;241;43m+\u001b[39;49m\u001b[43m \u001b[49m\u001b[38;5;124;43m'\u001b[39;49m\u001b[38;5;124;43m10\u001b[39;49m\u001b[38;5;124;43m'\u001b[39;49m\n",
      "\u001b[1;31mTypeError\u001b[0m: unsupported operand type(s) for +: 'int' and 'str'"
     ]
    }
   ],
   "source": [
    "a = 5 + '10'"
   ]
  },
  {
   "cell_type": "markdown",
   "id": "5915c0f3",
   "metadata": {},
   "source": [
    "# Raising an Exception\n",
    "If you want to force an exception to occur when a certain condition is met, you can use the raise keyword.\n"
   ]
  },
  {
   "cell_type": "code",
   "execution_count": 3,
   "id": "c5351797",
   "metadata": {},
   "outputs": [
    {
     "ename": "Exception",
     "evalue": "x should not be negative.",
     "output_type": "error",
     "traceback": [
      "\u001b[1;31m---------------------------------------------------------------------------\u001b[0m",
      "\u001b[1;31mException\u001b[0m                                 Traceback (most recent call last)",
      "Input \u001b[1;32mIn [3]\u001b[0m, in \u001b[0;36m<cell line: 2>\u001b[1;34m()\u001b[0m\n\u001b[0;32m      1\u001b[0m x \u001b[38;5;241m=\u001b[39m \u001b[38;5;241m-\u001b[39m\u001b[38;5;241m5\u001b[39m\n\u001b[0;32m      2\u001b[0m \u001b[38;5;28;01mif\u001b[39;00m x \u001b[38;5;241m<\u001b[39m \u001b[38;5;241m0\u001b[39m:\n\u001b[1;32m----> 3\u001b[0m     \u001b[38;5;28;01mraise\u001b[39;00m \u001b[38;5;167;01mException\u001b[39;00m(\u001b[38;5;124m'\u001b[39m\u001b[38;5;124mx should not be negative.\u001b[39m\u001b[38;5;124m'\u001b[39m)\n",
      "\u001b[1;31mException\u001b[0m: x should not be negative."
     ]
    }
   ],
   "source": [
    "\n",
    "x = -5\n",
    "if x < 0:\n",
    "    raise Exception('x should not be negative.')"
   ]
  },
  {
   "cell_type": "markdown",
   "id": "c853793c",
   "metadata": {},
   "source": [
    "You can also use the assert statement, which will throw an AssertionError if your assertion is not True. This way, you can actively test some conditions that have to be fulfilled instead of waiting for your program to unexpectedly crash midway. Assertion is also used in unit testing."
   ]
  },
  {
   "cell_type": "markdown",
   "id": "9ee4e20f",
   "metadata": {},
   "source": [
    "# Handling Exceptions\n",
    "You can use a try and except block to catch and handle exceptions. If you can catch an exceptions your program won't terminate, and can continue.\n"
   ]
  },
  {
   "cell_type": "code",
   "execution_count": 4,
   "id": "f80139ae",
   "metadata": {},
   "outputs": [
    {
     "name": "stdout",
     "output_type": "stream",
     "text": [
      "some error occured.\n",
      "division by zero\n",
      "Only a ZeroDivisionError is handled here\n",
      "A TypeError occured: unsupported operand type(s) for +: 'float' and 'str'\n"
     ]
    }
   ],
   "source": [
    "\n",
    "# This will catch all possible exceptions\n",
    "try:\n",
    "    a = 5 / 0\n",
    "except:\n",
    "    print('some error occured.')\n",
    "    \n",
    "# You can also catch the type of exception\n",
    "try:\n",
    "    a = 5 / 0\n",
    "except Exception as e:\n",
    "    print(e)\n",
    "    \n",
    "# It is good practice to specify the type of Exception you want to catch.\n",
    "# Therefore, you have to know the possible errors\n",
    "try:\n",
    "    a = 5 / 0\n",
    "except ZeroDivisionError:\n",
    "    print('Only a ZeroDivisionError is handled here')\n",
    "    \n",
    "# You can run multiple statements in a try block, and catch different possible exceptions\n",
    "try:\n",
    "    a = 5 / 1 # Note: No ZeroDivisionError here\n",
    "    b = a + '10'\n",
    "except ZeroDivisionError as e:\n",
    "    print('A ZeroDivisionError occured:', e)\n",
    "except TypeError as e:\n",
    "    print('A TypeError occured:', e)"
   ]
  },
  {
   "cell_type": "markdown",
   "id": "9e44e0f4",
   "metadata": {},
   "source": [
    "# else clause\n",
    "You can use an else statement that is run if no exception occured.\n",
    "\n"
   ]
  },
  {
   "cell_type": "code",
   "execution_count": 5,
   "id": "c788cbac",
   "metadata": {},
   "outputs": [
    {
     "name": "stdout",
     "output_type": "stream",
     "text": [
      "Everything is ok\n"
     ]
    }
   ],
   "source": [
    "try:\n",
    "    a = 5 / 1\n",
    "except ZeroDivisionError as e:\n",
    "    print('A ZeroDivisionError occured:', e)\n",
    "else:\n",
    "    print('Everything is ok')"
   ]
  },
  {
   "cell_type": "markdown",
   "id": "ba195541",
   "metadata": {},
   "source": [
    "# finally clause\n",
    "You can use a finally statement that always runs, no matter if there was an exception or not. This is for example used to make some cleanup operations.\n",
    "\n"
   ]
  },
  {
   "cell_type": "code",
   "execution_count": 6,
   "id": "7ed9e169",
   "metadata": {},
   "outputs": [
    {
     "name": "stdout",
     "output_type": "stream",
     "text": [
      "A TypeError occured: unsupported operand type(s) for +: 'float' and 'str'\n",
      "Cleaning up some stuff...\n"
     ]
    }
   ],
   "source": [
    "try:\n",
    "    a = 5 / 1 # Note: No ZeroDivisionError here\n",
    "    b = a + '10'\n",
    "except ZeroDivisionError as e:\n",
    "    print('A ZeroDivisionError occured:', e)\n",
    "except TypeError as e:\n",
    "    print('A TypeError occured:', e)\n",
    "else:\n",
    "    print('Everything is ok')\n",
    "finally:\n",
    "    print('Cleaning up some stuff...')"
   ]
  },
  {
   "cell_type": "markdown",
   "id": "e3822c3e",
   "metadata": {},
   "source": [
    "# Common built-in Exceptions\n",
    "You can find all built-in Exceptions here: https://docs.python.org/3/library/exceptions.html\n",
    "\n",
    "ImportError: If a module cannot be imported\n",
    "NameError: If you try to use a variable that was not defined\n",
    "FileNotFoundError: If you try to open a file that does not exist or you specify the wrong path\n",
    "ValueError: When an operation or function receives an argument that has the right type but an inappropriate value, e.g. try to remove a value from a list that does not exist\n",
    "TypeError: Raised when an operation or function is applied to an object of inappropriate type.\n",
    "IndexError: If you try to access an invalid index of a sequence, e.g a list or a tuple.\n",
    "KeyError: If you try to access a non existing key of a dictionary.\n"
   ]
  },
  {
   "cell_type": "code",
   "execution_count": null,
   "id": "cc0e23d2",
   "metadata": {},
   "outputs": [],
   "source": [
    "\n",
    "# ImportError\n",
    "import nonexistingmodule\n",
    "\n",
    "# NameError\n",
    "a = someundefinedvariable\n",
    "\n",
    "# FileNotFoundError\n",
    "with open('nonexistingfile.txt') as f:\n",
    "    read_data = f.read()\n",
    "\n",
    "# ValueError\n",
    "a = [0, 1, 2]\n",
    "a.remove(3)\n",
    "\n",
    "# TypeError\n",
    "a = 5 + \"10\"\n",
    "\n",
    "# IndexError\n",
    "a = [0, 1, 2]\n",
    "value = a[5]\n",
    "\n",
    "# KeyError\n",
    "my_dict = {\"name\": \"Max\", \"city\": \"Boston\"}\n",
    "age = my_dict[\"age\"]"
   ]
  },
  {
   "cell_type": "markdown",
   "id": "f1e75e05",
   "metadata": {},
   "source": [
    "# Define your own Exceptions\n",
    "You can define your own exception class that should be derived from the built-in Exception class. Most exceptions are defined with names that end in 'Error', similar to the naming of the standard exceptions. Exception classes can be defined like any other class, but are usually kept simple, often only offering a number of attributes that allow information about the error to be extracted by handlers.\n",
    "\n"
   ]
  },
  {
   "cell_type": "code",
   "execution_count": 8,
   "id": "31117f32",
   "metadata": {},
   "outputs": [
    {
     "name": "stdout",
     "output_type": "stream",
     "text": [
      "Value is too low. The value is: 1\n"
     ]
    }
   ],
   "source": [
    "# minimal example for own exception class\n",
    "class ValueTooHighError(Exception):\n",
    "    pass\n",
    "\n",
    "# or add some more information for handlers\n",
    "class ValueTooLowError(Exception):\n",
    "    def __init__(self, message, value):\n",
    "        self.message = message\n",
    "        self.value = value\n",
    "\n",
    "def test_value(a):\n",
    "    if a > 1000:\n",
    "        raise ValueTooHighError('Value is too high.')\n",
    "    if a < 5:\n",
    "        raise ValueTooLowError('Value is too low.', a) # Note that the constructor takes 2 arguments here\n",
    "    return a\n",
    "\n",
    "try:\n",
    "    test_value(1)\n",
    "except ValueTooHighError as e:\n",
    "    print(e)\n",
    "except ValueTooLowError as e:\n",
    "    print(e.message, 'The value is:', e.value)"
   ]
  },
  {
   "cell_type": "code",
   "execution_count": null,
   "id": "d16f8bc9",
   "metadata": {},
   "outputs": [],
   "source": []
  }
 ],
 "metadata": {
  "kernelspec": {
   "display_name": "Python 3 (ipykernel)",
   "language": "python",
   "name": "python3"
  },
  "language_info": {
   "codemirror_mode": {
    "name": "ipython",
    "version": 3
   },
   "file_extension": ".py",
   "mimetype": "text/x-python",
   "name": "python",
   "nbconvert_exporter": "python",
   "pygments_lexer": "ipython3",
   "version": "3.9.12"
  }
 },
 "nbformat": 4,
 "nbformat_minor": 5
}
